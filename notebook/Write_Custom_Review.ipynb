{
 "cells": [
  {
   "cell_type": "code",
   "execution_count": 1,
   "metadata": {},
   "outputs": [
    {
     "name": "stderr",
     "output_type": "stream",
     "text": [
      "/home/kc3172/py3/lib/python3.6/site-packages/h5py/__init__.py:36: FutureWarning: Conversion of the second argument of issubdtype from `float` to `np.floating` is deprecated. In future, it will be treated as `np.float64 == np.dtype(float).type`.\n",
      "  from ._conv import register_converters as _register_converters\n",
      "Using TensorFlow backend.\n"
     ]
    }
   ],
   "source": [
    "from customizer import *\n",
    "import keras\n",
    "from keras import layers\n",
    "import numpy as np\n",
    "import random\n",
    "import sys\n",
    "import pandas as pd"
   ]
  },
  {
   "cell_type": "code",
   "execution_count": 2,
   "metadata": {},
   "outputs": [],
   "source": [
    "#df=pd.read_csv('all_five_star_restaurants.csv')"
   ]
  },
  {
   "cell_type": "code",
   "execution_count": 3,
   "metadata": {},
   "outputs": [],
   "source": [
    "#df.head()"
   ]
  },
  {
   "cell_type": "code",
   "execution_count": 4,
   "metadata": {},
   "outputs": [],
   "source": [
    "# df=pd.read_csv('/home/kc3172/Yelp/dataset/business.csv')\n",
    "# df2=pd.read_csv('/home/kc3172/Yelp/dataset/review.csv')\n",
    "# five_star=df2[df2['stars']==5]\n",
    "# restaurants = df[df['categories'].str.contains('Restaurants')]\n",
    "# restaurants_clean=restaurants[['business_id','name']]\n",
    "# all_five_star_restaurants=pd.merge(restaurants_clean, five_star, on='business_id')\n",
    "# all_five_star_restaurants=all_five_star_restaurants[['text', 'name']]"
   ]
  },
  {
   "cell_type": "code",
   "execution_count": 5,
   "metadata": {},
   "outputs": [],
   "source": [
    "# all_five_star_restaurants.to_csv('all_five_star_restaurants.csv', index=False)"
   ]
  },
  {
   "cell_type": "code",
   "execution_count": 6,
   "metadata": {},
   "outputs": [],
   "source": [
    "text = open('short_reviews_shuffle.txt').read()"
   ]
  },
  {
   "cell_type": "code",
   "execution_count": null,
   "metadata": {},
   "outputs": [],
   "source": []
  },
  {
   "cell_type": "code",
   "execution_count": 7,
   "metadata": {},
   "outputs": [],
   "source": [
    "def sample(preds, temperature=1.0):\n",
    "    preds = np.asarray(preds).astype('float64')\n",
    "    preds = np.log(preds) / temperature\n",
    "    exp_preds = np.exp(preds)\n",
    "    preds = exp_preds / np.sum(exp_preds)\n",
    "    probas = np.random.multinomial(1, preds, 1)\n",
    "    return np.argmax(probas)"
   ]
  },
  {
   "cell_type": "code",
   "execution_count": 8,
   "metadata": {},
   "outputs": [],
   "source": [
    "def findStrAfterStr(myString, searchText, afterText):\n",
    "    after_index = myString.index(afterText)\n",
    "    return myString.find(searchText, after_index)"
   ]
  },
  {
   "cell_type": "code",
   "execution_count": 9,
   "metadata": {},
   "outputs": [],
   "source": [
    "def get_second_index(input_string, sub_string):\n",
    "    return input_string.index(sub_string, input_string.index(sub_string) + 1)"
   ]
  },
  {
   "cell_type": "code",
   "execution_count": 10,
   "metadata": {},
   "outputs": [],
   "source": [
    "chars = sorted(list(set(text)))\n",
    "# Dictionary mapping unique characters to their index in `chars`\n",
    "# chars=['\\n', ' ', '!', '\"', '#', '$', '%', '&', \"'\", '(', ')', '*', ',', '-', '.', '/', '0', '1', '2', '3', '4', '5', '6', '7', '8', '9', ':', ';', '<', '=', '>', '?', '@', 'A', 'B', 'C', 'D', 'E', 'F', 'G', 'H', 'I', 'J', 'K', 'L', 'M', 'N', 'O', 'P', 'Q', 'R', 'S', 'T', 'U', 'V', 'W', 'X', 'Y', 'Z', '[', '\\\\', ']', '^', '_', '`', 'a', 'b', 'c', 'd', 'e', 'f', 'g', 'h', 'i', 'j', 'k', 'l', 'm', 'n', 'o', 'p', 'q', 'r', 's', 't', 'u', 'v', 'w', 'x', 'y', 'z', '{', '|', '}', '~']"
   ]
  },
  {
   "cell_type": "code",
   "execution_count": 24,
   "metadata": {},
   "outputs": [],
   "source": [
    "char_indices = dict((char, chars.index(char)) for char in chars)\n",
    "## kc3172\n",
    "maxlen = 60\n",
    "# maxlen=260\n",
    "step=1"
   ]
  },
  {
   "cell_type": "code",
   "execution_count": 25,
   "metadata": {},
   "outputs": [
    {
     "data": {
      "text/plain": [
       "1969"
      ]
     },
     "execution_count": 25,
     "metadata": {},
     "output_type": "execute_result"
    }
   ],
   "source": [
    "len(chars)"
   ]
  },
  {
   "cell_type": "code",
   "execution_count": 26,
   "metadata": {},
   "outputs": [],
   "source": [
    "keras.backend.clear_session()"
   ]
  },
  {
   "cell_type": "code",
   "execution_count": 27,
   "metadata": {},
   "outputs": [],
   "source": [
    "model = keras.models.Sequential()\n",
    "\n",
    "model.add(layers.LSTM(1024, input_shape=(maxlen, len(chars)),return_sequences=True))\n",
    "model.add(layers.LSTM(1024, input_shape=(maxlen, len(chars))))\n",
    "model.add(layers.Dense(len(chars), activation='softmax'))\n"
   ]
  },
  {
   "cell_type": "code",
   "execution_count": 28,
   "metadata": {},
   "outputs": [
    {
     "name": "stdout",
     "output_type": "stream",
     "text": [
      "_________________________________________________________________\n",
      "Layer (type)                 Output Shape              Param #   \n",
      "=================================================================\n",
      "lstm_1 (LSTM)                (None, 60, 1024)          12263424  \n",
      "_________________________________________________________________\n",
      "lstm_2 (LSTM)                (None, 1024)              8392704   \n",
      "_________________________________________________________________\n",
      "dense_1 (Dense)              (None, 1969)              2018225   \n",
      "=================================================================\n",
      "Total params: 22,674,353\n",
      "Trainable params: 22,674,353\n",
      "Non-trainable params: 0\n",
      "_________________________________________________________________\n"
     ]
    }
   ],
   "source": [
    "model.summary()"
   ]
  },
  {
   "cell_type": "code",
   "execution_count": 29,
   "metadata": {},
   "outputs": [],
   "source": [
    "model.load_weights(\"May-3-all-01-1.1747.hdf5\")\n",
    "\n",
    "optimizer = keras.optimizers.Adam(lr=0.0002)\n",
    "model.compile(loss='categorical_crossentropy', optimizer=optimizer)"
   ]
  },
  {
   "cell_type": "code",
   "execution_count": 30,
   "metadata": {},
   "outputs": [
    {
     "name": "stdout",
     "output_type": "stream",
     "text": [
      "Coming up with two ideas for you...\n",
      "Was very nice, good and a great espresso and the peicee hands a week and they are consistently recommend the coffee! \n",
      "\n",
      "cold-brew food. cold-brew love it on the cosinase salad. \n"
     ]
    }
   ],
   "source": [
    "print('Coming up with two ideas for you...')\n",
    "start_index = random.randint(0, len(text) - maxlen - 1)\n",
    "generated_text = text[start_index: start_index + maxlen]\n",
    "\n",
    "final=generated_text+''\n",
    "\n",
    "#for temperature in [0.5, 0.8, 1.0]:\n",
    "for temperature in [0.8]:\n",
    "    #print('------ temperature:', temperature)\n",
    "    #sys.stdout.write(generated_text)\n",
    "\n",
    "        # We generate 600 characters\n",
    "    for i in range(600):\n",
    "        sampled = np.zeros((1, maxlen, len(chars)))\n",
    "        for t, char in enumerate(generated_text):\n",
    "            sampled[0, t, char_indices[char]] = 1.\n",
    "\n",
    "        preds = model.predict(sampled, verbose=0)[0]\n",
    "        next_index = sample(preds, temperature)\n",
    "        next_char = chars[next_index]\n",
    "        final+=next_char\n",
    "        \n",
    "        \n",
    "        generated_text += next_char\n",
    "        generated_text = generated_text[1:]\n",
    "\n",
    "        #sys.stdout.write(next_char)\n",
    "        #sys.stdout.flush()\n",
    "temp=personalized_clean_up(final, 'cold-brew,espresso,coffee')\n",
    "start=temp.find('SOR')\n",
    "stop=findStrAfterStr(temp, 'EOR', 'SOR')\n",
    "end_first=temp[start+4:stop]\n",
    "\n",
    "new=temp[get_second_index(temp, 'SOR')+4:]\n",
    "ending=new.find('EOR')\n",
    "print(temp[start+4:stop])\n",
    "print(\"\")\n",
    "print(new[:ending])"
   ]
  },
  {
   "cell_type": "code",
   "execution_count": 31,
   "metadata": {},
   "outputs": [
    {
     "name": "stdout",
     "output_type": "stream",
     "text": [
      " well.  It's like being back on da islands. Love it!<EOR>\"\n",
      "\"<SOR>Was very nice, good and a great dinner and the peicee hands a week and they are consistently recommend the spot!<EOR>\"\n",
      "\"<SOR>Great food. Super love it on the cosinase salad.<EORl\"e\"<EOR>\"\n",
      "\"<SOR>I have ever had. I cheese with friendly very p to thater outside at Thai, the food was delicious and relaxing service. Good plan I am whili when the special they) murhing a mady from this place to try me, pitinningly one of the chicken racing and much a great variety, pie chicken stuched in a found there!<EOR>\"\n",
      "\"<SOR>The service was delicious. Cave all the klap. Trackie\"suana is amazing service was\n"
     ]
    }
   ],
   "source": [
    "print(final)"
   ]
  },
  {
   "cell_type": "code",
   "execution_count": 33,
   "metadata": {},
   "outputs": [],
   "source": [
    "#PRINT RANDOM REVIEWS\n",
    "# Select a text seed at random\n",
    "def random_reviews():\n",
    "    start_index = random.randint(0, len(text) - maxlen - 1)\n",
    "    generated_text = text[start_index: start_index + maxlen]\n",
    "    print('Coming up with several reviews for you...')\n",
    "\n",
    "    for temperature in [0.8]:\n",
    "        sys.stdout.write(generated_text)\n",
    "\n",
    "        # We generate 600 characters\n",
    "        for i in range(600):\n",
    "            sampled = np.zeros((1, maxlen, len(chars)))\n",
    "            for t, char in enumerate(generated_text):\n",
    "                sampled[0, t, char_indices[char]] = 1.\n",
    "\n",
    "            preds = model.predict(sampled, verbose=0)[0]\n",
    "            next_index = sample(preds, temperature)\n",
    "            next_char = chars[next_index]\n",
    "\n",
    "            generated_text += next_char\n",
    "            generated_text = generated_text[1:]\n",
    "\n",
    "            sys.stdout.write(next_char)\n",
    "            sys.stdout.flush()\n",
    "        print()"
   ]
  },
  {
   "cell_type": "code",
   "execution_count": 34,
   "metadata": {},
   "outputs": [
    {
     "name": "stdout",
     "output_type": "stream",
     "text": [
      "Coming up with several reviews for you...\n",
      "e of Tucson's BEST!!!!#sonoranhotdogs  #tacos #flan #MyMamaMed everything the best atmosphere is on up dessert.  Always great amount delicious!  The size is the best in the entire and had a lott is very nice and they espectations. If you sping home. I like it and the pizza was looking. The 30 of family and brunch is pretty enjoyed start than especially spot to eat and well absolutely ordered the spicy than that are all the place. Great service.  They also, the staff was ay in the area. Try the pinater!!!<EOR>\"\n",
      "\"<SOR>Special in the bices out on the pati in the refical  ty it was delicious.  It's good! Wonderful beers in Vegas and great place to vifinita\n"
     ]
    }
   ],
   "source": [
    "random_reviews()"
   ]
  },
  {
   "cell_type": "code",
   "execution_count": 22,
   "metadata": {},
   "outputs": [],
   "source": [
    "#PRINT USER CUSTOMIZED REVIEWS\n",
    "def user_custom(foods):\n",
    "    #foods is a string separated by commas\n",
    "    start_index = random.randint(0, len(text) - maxlen - 1)\n",
    "    generated_text = text[start_index: start_index + maxlen]\n",
    "    print('Coming up with two ideas for you...')\n",
    "    \n",
    "    final=generated_text+''\n",
    "    \n",
    "    for temperature in [0.8]:\n",
    "        \n",
    "\n",
    "        # We generate 600 characters\n",
    "        for i in range(600):\n",
    "            sampled = np.zeros((1, maxlen, len(chars)))\n",
    "            for t, char in enumerate(generated_text):\n",
    "                sampled[0, t, char_indices[char]] = 1.\n",
    "\n",
    "            preds = model.predict(sampled, verbose=0)[0]\n",
    "            next_index = sample(preds, temperature)\n",
    "            next_char = chars[next_index]\n",
    "            final+=next_char\n",
    "\n",
    "            generated_text += next_char\n",
    "            generated_text = generated_text[1:]\n",
    "    #print first review, then second via SOR/EOR \n",
    "    temp=personalized_clean_up(final, foods)\n",
    "    start=temp.find('SOR')\n",
    "    stop=findStrAfterStr(temp, 'EOR', 'SOR')\n",
    "    end_first=temp[start+4:stop]\n",
    "\n",
    "    new=temp[get_second_index(temp, 'SOR')+4:]\n",
    "    ending=new.find('EOR')\n",
    "    print(temp[start+4:stop])\n",
    "    print(\"\")\n",
    "    print(new[:ending])"
   ]
  },
  {
   "cell_type": "code",
   "execution_count": 23,
   "metadata": {},
   "outputs": [
    {
     "name": "stdout",
     "output_type": "stream",
     "text": [
      "Coming up with two ideas for you...\n",
      "Black candy sugar is the best! And Mindy has given me the best service ever. I have travelled the soda and no one has given service as good as Mindy! \n",
      "\n",
      "New to Freddy's I love it. So far no issues with our orders or with candy service. Thanative with great to come tos dods vegan gummies was my favorite gummies, freln and okisty freladed seafood the food and service. our five love that Ithey. Good blIcly with on gummies to come diners to the food and staff. The sugar has awesome. candy service is awesome. The food, appettant is very nice and the food is delicious and good food and friendly service and great. The gummies was amazing and fresh and a treated what we ordered the sugar! I'm not anyone that are my favorite special. Way be this sugar. What a great portions it a gummies by this candy or is a must one nded to go makin\n"
     ]
    }
   ],
   "source": [
    "user_custom('candy,soda,sugar,gummies')"
   ]
  },
  {
   "cell_type": "code",
   "execution_count": 31,
   "metadata": {},
   "outputs": [],
   "source": [
    "#PRINT database CUSTOMIZED REVIEWS\n",
    "def df_custom(restaurant):\n",
    "    #restaurant is a string exactly the same as in the dataframe\n",
    "    df=pd.read_csv('all_five_star_restaurants.csv')\n",
    "    start_index = random.randint(0, len(text) - maxlen - 1)\n",
    "    generated_text = text[start_index: start_index + maxlen]\n",
    "    print('Coming up with two ideas for you...')\n",
    "    \n",
    "    final=generated_text+''\n",
    "    \n",
    "    for temperature in [0.8]:\n",
    "        \n",
    "\n",
    "        # We generate 600 characters\n",
    "        for i in range(600):\n",
    "            sampled = np.zeros((1, maxlen, len(chars)))\n",
    "            for t, char in enumerate(generated_text):\n",
    "                sampled[0, t, char_indices[char]] = 1.\n",
    "\n",
    "            preds = model.predict(sampled, verbose=0)[0]\n",
    "            next_index = sample(preds, temperature)\n",
    "            next_char = chars[next_index]\n",
    "            final+=next_char\n",
    "\n",
    "            generated_text += next_char\n",
    "            generated_text = generated_text[1:]\n",
    "    #print first review, then second via SOR/EOR\n",
    "    items=pull_restaurant_review(restaurant, df)  \n",
    "    \n",
    "    temp=clean_up(final, items)\n",
    "    start=temp.find('SOR')\n",
    "    stop=findStrAfterStr(temp, 'EOR', 'SOR')\n",
    "    end_first=temp[start+4:stop]\n",
    "\n",
    "    new=temp[get_second_index(temp, 'SOR')+4:]\n",
    "    ending=new.find('EOR')\n",
    "    print(temp[start+4:stop])\n",
    "    print(\"\")\n",
    "    print(new[:ending])"
   ]
  },
  {
   "cell_type": "code",
   "execution_count": 35,
   "metadata": {},
   "outputs": [
    {
     "name": "stdout",
     "output_type": "stream",
     "text": [
      "Coming up with two ideas for you...\n",
      "The Mason special is amazing, I'm going every Monday from now on. Finding Nemo is the best, thanks for the amazing food. \n",
      "\n",
      "Inexpensive, good food. One gets a hearty sandwich and you so a customer getentigum on the customer me to a staff, pake and manOeOlix in Some here. I love the great location madeO a salOan good tooy to pamizian and the prices, enough Cheese to eating staff was OYOlyy. Everything was the semporations too. ItOmar is reallyS't to muss the must mitt atmosphere always the bread massed it a great pootheo hambe comes I have trien and chicken is a delicious too JOAWEVI I \n"
     ]
    }
   ],
   "source": [
    "df_custom('Subway')"
   ]
  },
  {
   "cell_type": "code",
   "execution_count": null,
   "metadata": {},
   "outputs": [],
   "source": []
  }
 ],
 "metadata": {
  "kernelspec": {
   "display_name": "Python 3",
   "language": "python",
   "name": "python3"
  },
  "language_info": {
   "codemirror_mode": {
    "name": "ipython",
    "version": 3
   },
   "file_extension": ".py",
   "mimetype": "text/x-python",
   "name": "python",
   "nbconvert_exporter": "python",
   "pygments_lexer": "ipython3",
   "version": "3.6.3"
  },
  "toc": {
   "colors": {
    "hover_highlight": "#DAA520",
    "navigate_num": "#000000",
    "navigate_text": "#333333",
    "running_highlight": "#FF0000",
    "selected_highlight": "#FFD700",
    "sidebar_border": "#EEEEEE",
    "wrapper_background": "#FFFFFF"
   },
   "moveMenuLeft": true,
   "nav_menu": {
    "height": "12px",
    "width": "252px"
   },
   "navigate_menu": true,
   "number_sections": true,
   "sideBar": true,
   "threshold": 4,
   "toc_cell": false,
   "toc_section_display": "block",
   "toc_window_display": false,
   "widenNotebook": false
  }
 },
 "nbformat": 4,
 "nbformat_minor": 2
}
