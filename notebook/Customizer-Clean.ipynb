{
 "cells": [
  {
   "cell_type": "code",
   "execution_count": 1,
   "metadata": {
    "collapsed": true
   },
   "outputs": [],
   "source": [
    "import nltk\n",
    "from nltk.corpus import wordnet as wn\n",
    "import random\n",
    "import re\n",
    "\n",
    "def review_to_nouns(review):\n",
    "    is_noun = lambda pos: pos[:2] == 'NN'\n",
    "    token=nltk.word_tokenize(review)\n",
    "    nouns=[word for (word, pos) in nltk.pos_tag(token) if is_noun(pos)]\n",
    "    return nouns\n"
   ]
  },
  {
   "cell_type": "code",
   "execution_count": 37,
   "metadata": {
    "collapsed": true
   },
   "outputs": [],
   "source": [
    "def food_related(nouns):\n",
    "    #this takes in a list of wordnet nouns, and returns the list that are\n",
    "    #>.40 based on WUP lexical related in Wordnet.  This can be tweaked\n",
    "\n",
    "    food=wn.synset('food.n.01')\n",
    "    final_list=[]\n",
    "    for word in nouns:\n",
    "        temp=word\n",
    "        word=word+'.n.01'\n",
    "        try:\n",
    "            if food.wup_similarity(wn.synset(word))>0.20 and temp!='food':\n",
    "                final_list.append(temp)\n",
    "        except:\n",
    "            pass\n",
    "            \n",
    "    return final_list"
   ]
  },
  {
   "cell_type": "code",
   "execution_count": 25,
   "metadata": {
    "collapsed": true
   },
   "outputs": [],
   "source": [
    "def clean_up(generic_review, real_review):\n",
    "    generic_nouns=review_to_nouns(generic_review)\n",
    "    real_nouns=review_to_nouns(real_review)\n",
    "    \n",
    "    food_generic=food_related(generic_nouns)\n",
    "    food_real=food_related(real_nouns)\n",
    "    \n",
    "    #take generic sentence, generic food nouns, and replace with real review food nouns\n",
    "    final=[]\n",
    "    for word in re.findall(r\"[\\w']+|[.,!?;]\", generic_review):\n",
    "        if word in food_generic and len(food_real)>1:\n",
    "            word=random.choice(food_real)\n",
    "            final.append(word)\n",
    "        else:\n",
    "            final.append(word)\n",
    "        \n",
    "    \n",
    "    new_review=\" \".join(final)\n",
    "    return re.sub(r'\\s+([?.!\",])', r'\\1', new_review)"
   ]
  },
  {
   "cell_type": "code",
   "execution_count": 26,
   "metadata": {
    "collapsed": true
   },
   "outputs": [],
   "source": [
    "def personalized_clean_up(review,user_items):\n",
    "    #take generic review, and replace with user generated food nouns\n",
    "    generic_nouns=review_to_nouns(review)\n",
    "    food_generic=food_related(generic_nouns)\n",
    "    \n",
    "    user_picked_items=user_items.split(\",\")\n",
    "    \n",
    "    final=[]\n",
    "    for word in re.findall(r\"[\\w']+|[.,!?;]\", review):\n",
    "        if word in food_generic and len(user_picked_items)>1: \n",
    "            word=random.choice(user_picked_items)\n",
    "            final.append(word)\n",
    "        else:\n",
    "            final.append(word)\n",
    "        \n",
    "    new_review=\" \".join(final)\n",
    "    return re.sub(r'\\s+([?.!\",])', r'\\1', new_review)"
   ]
  },
  {
   "cell_type": "code",
   "execution_count": 5,
   "metadata": {
    "collapsed": true
   },
   "outputs": [],
   "source": [
    "def pull_restaurant_review(restaurant_name, df):\n",
    "    #have a dataframe cleaned with names and reviews\n",
    "    #restaurant_name is a string\n",
    "    target_restaurant=df[df['name']==restaurant_name]\n",
    "    combined_reviews=' '.join(target_restaurant['text'])\n",
    "    \n",
    "    return combined_reviews"
   ]
  },
  {
   "cell_type": "code",
   "execution_count": 43,
   "metadata": {
    "collapsed": true
   },
   "outputs": [],
   "source": [
    "generic='This food was awesome!  I really liked the chicken, pork, and steak.'"
   ]
  },
  {
   "cell_type": "code",
   "execution_count": 44,
   "metadata": {
    "collapsed": true
   },
   "outputs": [],
   "source": [
    "real='Had a pitcher of margaritas, pizza, , potatoe , salad, spinach, avocado queso and carne asada taco. Their margaritas are the best. Loved the tacos. The portions aren\\'t that big like most Mexican food places and I\\'m not a huge fan'"
   ]
  },
  {
   "cell_type": "code",
   "execution_count": 45,
   "metadata": {},
   "outputs": [
    {
     "data": {
      "text/plain": [
       "'This food was awesome! I really liked the pitcher, pizza, and pitcher.'"
      ]
     },
     "execution_count": 45,
     "metadata": {},
     "output_type": "execute_result"
    }
   ],
   "source": [
    "clean_up(generic, real)"
   ]
  },
  {
   "cell_type": "code",
   "execution_count": 16,
   "metadata": {
    "collapsed": true
   },
   "outputs": [],
   "source": [
    "sample='pizza, pasta, potatoes, ravioli, coffee'\n"
   ]
  },
  {
   "cell_type": "code",
   "execution_count": 30,
   "metadata": {},
   "outputs": [
    {
     "data": {
      "text/plain": [
       "'This food was awesome! I really liked the  potatoes,  potatoes, and  pasta.'"
      ]
     },
     "execution_count": 30,
     "metadata": {},
     "output_type": "execute_result"
    }
   ],
   "source": [
    "personalized_clean_up(generic, sample)"
   ]
  },
  {
   "cell_type": "code",
   "execution_count": null,
   "metadata": {
    "collapsed": true
   },
   "outputs": [],
   "source": []
  }
 ],
 "metadata": {
  "kernelspec": {
   "display_name": "Python 3",
   "language": "python",
   "name": "python3"
  },
  "language_info": {
   "codemirror_mode": {
    "name": "ipython",
    "version": 3
   },
   "file_extension": ".py",
   "mimetype": "text/x-python",
   "name": "python",
   "nbconvert_exporter": "python",
   "pygments_lexer": "ipython3",
   "version": "3.6.1"
  },
  "toc": {
   "colors": {
    "hover_highlight": "#DAA520",
    "navigate_num": "#000000",
    "navigate_text": "#333333",
    "running_highlight": "#FF0000",
    "selected_highlight": "#FFD700",
    "sidebar_border": "#EEEEEE",
    "wrapper_background": "#FFFFFF"
   },
   "moveMenuLeft": true,
   "nav_menu": {
    "height": "12px",
    "width": "252px"
   },
   "navigate_menu": true,
   "number_sections": true,
   "sideBar": true,
   "threshold": 4,
   "toc_cell": false,
   "toc_section_display": "block",
   "toc_window_display": false,
   "widenNotebook": false
  }
 },
 "nbformat": 4,
 "nbformat_minor": 2
}
